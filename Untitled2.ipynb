{
  "nbformat": 4,
  "nbformat_minor": 0,
  "metadata": {
    "colab": {
      "provenance": [],
      "toc_visible": true,
      "authorship_tag": "ABX9TyNBNDkWx6mJ5LGVJm6P9OVW",
      "include_colab_link": true
    },
    "kernelspec": {
      "name": "python3",
      "display_name": "Python 3"
    },
    "language_info": {
      "name": "python"
    }
  },
  "cells": [
    {
      "cell_type": "markdown",
      "metadata": {
        "id": "view-in-github",
        "colab_type": "text"
      },
      "source": [
        "<a href=\"https://colab.research.google.com/github/083SFDavii/davi/blob/main/Untitled2.ipynb\" target=\"_parent\"><img src=\"https://colab.research.google.com/assets/colab-badge.svg\" alt=\"Open In Colab\"/></a>"
      ]
    },
    {
      "cell_type": "code",
      "execution_count": 6,
      "metadata": {
        "id": "rkm9dKyKD47_"
      },
      "outputs": [],
      "source": [
        "#função calcula média\n",
        "def calculaMédia(x,y,z):\n",
        "  return (x,y,z)/3 "
      ]
    },
    {
      "cell_type": "code",
      "source": [
        "a = float(input('nota 1:'))\n",
        "b = float(input('nota 2:'))\n",
        "c = float(input('nota 3:'))"
      ],
      "metadata": {
        "colab": {
          "base_uri": "https://localhost:8080/"
        },
        "id": "AP1hc0rhMWf2",
        "outputId": "3dd0a515-72be-47c2-faf4-ce28fedf0237"
      },
      "execution_count": 34,
      "outputs": [
        {
          "name": "stdout",
          "output_type": "stream",
          "text": [
            "nota 1:10\n",
            "nota 2:9\n",
            "nota 3:8\n"
          ]
        }
      ]
    },
    {
      "cell_type": "code",
      "source": [
        "def mediatotal(*notas):\n",
        "  soma = 0 \n",
        "  for nota in notas:\n",
        "    soma += nota\n",
        "  media = soma/len(notas) \n",
        "  print('A media é:', media)\n"
      ],
      "metadata": {
        "id": "fEdtOzisM7PG"
      },
      "execution_count": 38,
      "outputs": []
    },
    {
      "cell_type": "code",
      "source": [
        "mediatotal(8,6,9,8,7,6,9,8,4,5,3,7,6,7,9,10)"
      ],
      "metadata": {
        "colab": {
          "base_uri": "https://localhost:8080/"
        },
        "id": "xDb7KBPlNyQH",
        "outputId": "49972994-1d33-43ff-e792-e3fc8443a91f"
      },
      "execution_count": 73,
      "outputs": [
        {
          "output_type": "stream",
          "name": "stdout",
          "text": [
            "A media é: 7.0\n"
          ]
        }
      ]
    },
    {
      "cell_type": "code",
      "source": [
        "#Recebe vários numeros e retorna o maior.\n",
        "def retornaMaior(*numeros):\n",
        "   maior = 0 \n",
        "   for n in numeros:\n",
        "      if(n >= maior):\n",
        "        maior = n \n",
        "   return maior"
      ],
      "metadata": {
        "id": "LBKMSe6nQFXq"
      },
      "execution_count": 68,
      "outputs": []
    },
    {
      "cell_type": "code",
      "source": [
        "retornaMaior(2, 5, 17, 3, 23, 5)"
      ],
      "metadata": {
        "colab": {
          "base_uri": "https://localhost:8080/"
        },
        "id": "rqkgFi8Ha_2K",
        "outputId": "24eca3a6-e5c4-4882-ff5b-7b50dca6f7a1"
      },
      "execution_count": 69,
      "outputs": [
        {
          "output_type": "execute_result",
          "data": {
            "text/plain": [
              "23"
            ]
          },
          "metadata": {},
          "execution_count": 69
        }
      ]
    },
    {
      "cell_type": "code",
      "source": [
        "#valor de parâmetro padrão \n",
        "def nacionalidade(country = 'cuba'):\n",
        "  print('eu nasci em:'+ country)"
      ],
      "metadata": {
        "id": "vASxcPolexOw"
      },
      "execution_count": 75,
      "outputs": []
    },
    {
      "cell_type": "code",
      "source": [
        "nacionalidade ('brasil')\n",
        "nacionalidade ('mexico')\n",
        "nacionalidade ('coreia')\n",
        "nacionalidade ('frança')\n",
        "nacionalidade ()"
      ],
      "metadata": {
        "colab": {
          "base_uri": "https://localhost:8080/"
        },
        "id": "r5Ghyb4WfV9q",
        "outputId": "5881e6fa-e435-441c-c53c-f0646539bdc9"
      },
      "execution_count": 76,
      "outputs": [
        {
          "output_type": "stream",
          "name": "stdout",
          "text": [
            "eu nasci em:brasil\n",
            "eu nasci em:mexico\n",
            "eu nasci em:coreia\n",
            "eu nasci em:frança\n",
            "eu nasci em:cuba\n"
          ]
        }
      ]
    },
    {
      "cell_type": "code",
      "source": [
        "\n",
        "#1 Escreva uma função que recebe dois parâmetros numéricos e retorna a soma desses números.\n",
        "#2 Escreva uma função que recebe um número e retorna o seu valor absoluto.\n",
        "#3 Escreva uma função que recebe uma lista de números e retorna o maior número da lista.\n",
        "#4 Escreva uma função que recebe uma lista de palavras e retorna uma lista com as palavras que possuem mais de três letras.\n",
        "\n",
        "def soma(a, b):\n",
        "  return a + b "
      ],
      "metadata": {
        "id": "rI9BrWxIfrmU"
      },
      "execution_count": 77,
      "outputs": []
    },
    {
      "cell_type": "code",
      "source": [
        "def valorAbsoluto(num):  \n",
        "  if(num< 0):\n",
        "    num = num * -1\n",
        "  return num"
      ],
      "metadata": {
        "id": "StFvKs3RiTDg"
      },
      "execution_count": 80,
      "outputs": []
    },
    {
      "cell_type": "code",
      "source": [
        "def maiorque3(lista):\n",
        " novaLista = [] \n",
        " for item in lista:\n",
        "   if(len(item) > 3):\n",
        "     novaLista.append(item)\n",
        " return novaLista"
      ],
      "metadata": {
        "id": "PinmP8tNjMPq"
      },
      "execution_count": 94,
      "outputs": []
    },
    {
      "cell_type": "code",
      "source": [
        "frutas = ['manga', 'tomate', 'uva']\n",
        "maiorque3(frutas)"
      ],
      "metadata": {
        "colab": {
          "base_uri": "https://localhost:8080/"
        },
        "id": "F3yL2Gf6k5bd",
        "outputId": "deb558fc-948b-4948-9f9b-994d4be139d4"
      },
      "execution_count": 95,
      "outputs": [
        {
          "output_type": "execute_result",
          "data": {
            "text/plain": [
              "['manga', 'tomate']"
            ]
          },
          "metadata": {},
          "execution_count": 95
        }
      ]
    }
  ]
}