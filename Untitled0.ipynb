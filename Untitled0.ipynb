{
  "nbformat": 4,
  "nbformat_minor": 0,
  "metadata": {
    "colab": {
      "provenance": [],
      "authorship_tag": "ABX9TyPnNz78ImHe8CHTRze1N4xq",
      "include_colab_link": true
    },
    "kernelspec": {
      "name": "python3",
      "display_name": "Python 3"
    },
    "language_info": {
      "name": "python"
    }
  },
  "cells": [
    {
      "cell_type": "markdown",
      "metadata": {
        "id": "view-in-github",
        "colab_type": "text"
      },
      "source": [
        "<a href=\"https://colab.research.google.com/github/083davii/professor-pablo/blob/main/Untitled0.ipynb\" target=\"_parent\"><img src=\"https://colab.research.google.com/assets/colab-badge.svg\" alt=\"Open In Colab\"/></a>"
      ]
    },
    {
      "cell_type": "code",
      "execution_count": 1,
      "metadata": {
        "id": "2kgJXudXH995"
      },
      "outputs": [],
      "source": [
        "#1 Escreva uma função que recebe ua lista de strings e retorne:\n",
        "## apenas as palavras que começam com a letra A \n",
        "## a quantidade de palavras encontradas \n",
        "#2 Escreva uma função que recebe uma lista de números e retorne o produto dese número.\n",
        "#3 Escreva uma função que recebe uma lista de números e retorne a soma dos número.\n",
        "#4 função recebe uma lista de nomes, e  retorna  a strings com o maior número de caracteres.\n",
        "\n",
        "\n"
      ]
    },
    {
      "cell_type": "code",
      "source": [
        "def listaLetraA(palavras):\n",
        "  wordA = []\n",
        "  for i in palavras:\n",
        "    if i[0] == 'a':\n",
        "      wordA.append(i)\n",
        "  print(len(wordA))\n",
        "  return wordA"
      ],
      "metadata": {
        "id": "Jg_Ho6WVUwk7"
      },
      "execution_count": 57,
      "outputs": []
    },
    {
      "cell_type": "code",
      "source": [
        "animais = ['arara', 'macaco', 'gato', 'gavião', 'aguia', 'cachorro']\n",
        "listaLetraA(animais)\n"
      ],
      "metadata": {
        "colab": {
          "base_uri": "https://localhost:8080/"
        },
        "id": "lvK_WnPeXfnq",
        "outputId": "db0a3b82-16a9-481a-f84b-cb2ce7c7a099"
      },
      "execution_count": 61,
      "outputs": [
        {
          "output_type": "stream",
          "name": "stdout",
          "text": [
            "2\n"
          ]
        },
        {
          "output_type": "execute_result",
          "data": {
            "text/plain": [
              "['arara', 'aguia']"
            ]
          },
          "metadata": {},
          "execution_count": 61
        }
      ]
    },
    {
      "cell_type": "code",
      "source": [
        "#2 Escreva uma função que recebe uma lista de números e retorne o produto dese número.\n",
        "def produto(numero):\n",
        "  resultado = 1 \n",
        "  for n in numero:\n",
        "    resultado *= n\n",
        "  return resultado \n",
        "\n",
        "numerozinhos = [2,3,4,5,6,7,8,9,12]\n",
        "produto(numerozinhos)\n",
        "\n"
      ],
      "metadata": {
        "colab": {
          "base_uri": "https://localhost:8080/"
        },
        "id": "0QqSqUnjaWnV",
        "outputId": "df057dfa-8cde-4ac6-ab82-0f90cdfff945"
      },
      "execution_count": 86,
      "outputs": [
        {
          "output_type": "execute_result",
          "data": {
            "text/plain": [
              "4354560"
            ]
          },
          "metadata": {},
          "execution_count": 86
        }
      ]
    },
    {
      "cell_type": "code",
      "source": [
        "#3 Escreva uma função que recebe uma lista de números e retorne a soma dos número.\n",
        "def somatorio(numero):\n",
        "  soma = 0\n",
        "  for n in numero:\n",
        "    if n % 2 == 0:\n",
        "      soma += n\n",
        "  return soma\n"
      ],
      "metadata": {
        "id": "zBY-YKvgb9JR"
      },
      "execution_count": 87,
      "outputs": []
    },
    {
      "cell_type": "code",
      "source": [
        "somatorio(numerozinhos)"
      ],
      "metadata": {
        "colab": {
          "base_uri": "https://localhost:8080/"
        },
        "id": "-BBusUK6h20Z",
        "outputId": "2450004c-bad5-4421-a9f3-c073286320f2"
      },
      "execution_count": 88,
      "outputs": [
        {
          "output_type": "execute_result",
          "data": {
            "text/plain": [
              "32"
            ]
          },
          "metadata": {},
          "execution_count": 88
        }
      ]
    },
    {
      "cell_type": "code",
      "source": [
        "#4 função recebe uma lista de nomes, e  retorna  a strings com o maior número de caracteres.\n",
        "user = ['Davi', 'Bruno', 'Zebedel', 'Jozué', 'Salomão', 'alesxandro']\n",
        "\n",
        "def maiorString(user):\n",
        "  maior = ''\n",
        "  for u in user:\n",
        "    if(len(u) >= len(maior)):\n",
        "     maior = u\n",
        "  return maior \n",
        "\n",
        "maiorString(user)\n"
      ],
      "metadata": {
        "colab": {
          "base_uri": "https://localhost:8080/",
          "height": 35
        },
        "id": "fDk4OAf9jsR3",
        "outputId": "07274bcf-282d-4347-b0ef-189864072b58"
      },
      "execution_count": 108,
      "outputs": [
        {
          "output_type": "execute_result",
          "data": {
            "text/plain": [
              "'alesxandro'"
            ],
            "application/vnd.google.colaboratory.intrinsic+json": {
              "type": "string"
            }
          },
          "metadata": {},
          "execution_count": 108
        }
      ]
    },
    {
      "cell_type": "markdown",
      "source": [
        "Recursão\n",
        ". 'Recursividade é um termo usado de maneira mais geral para  descrever o processo de repetiçaõ de um objeto de um jeito similar ao que já fora mostrado. Um bom exemplo disso são as imagens repetidas que aparecem quando dois espelhos são apontados um para o outro.  "
      ],
      "metadata": {
        "id": "J4wISMYNpeD4"
      }
    },
    {
      "cell_type": "markdown",
      "source": [],
      "metadata": {
        "id": "yl9YNlwTh1zS"
      }
    },
    {
      "cell_type": "code",
      "source": [
        "#calcule de fatotial :\n",
        "# o fatorial de um número é o produto dele pelo seus antecessores maiores que 0.\n",
        "#por exemplo, o fatorial de 6 é 6! = 6*5*4*3*2*1*.\n",
        "def fatorial(n):\n",
        "  if(n <= 1):\n",
        "    return 1\n",
        "  else:\n",
        "    return n * fatorial(n-1)\n",
        "     "
      ],
      "metadata": {
        "id": "ydOXSceQqQuo"
      },
      "execution_count": 109,
      "outputs": []
    },
    {
      "cell_type": "code",
      "source": [
        "fatorial(5)"
      ],
      "metadata": {
        "colab": {
          "base_uri": "https://localhost:8080/"
        },
        "id": "OKqH5ZvkrYuB",
        "outputId": "4acd7eaf-3cab-48e2-c50b-e6a11ff2b461"
      },
      "execution_count": 110,
      "outputs": [
        {
          "output_type": "execute_result",
          "data": {
            "text/plain": [
              "120"
            ]
          },
          "metadata": {},
          "execution_count": 110
        }
      ]
    }
  ]
}