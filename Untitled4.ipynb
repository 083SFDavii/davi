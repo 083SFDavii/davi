{
  "nbformat": 4,
  "nbformat_minor": 0,
  "metadata": {
    "colab": {
      "provenance": [],
      "toc_visible": true,
      "authorship_tag": "ABX9TyO4ssl8foitpRMVkrCdshx6",
      "include_colab_link": true
    },
    "kernelspec": {
      "name": "python3",
      "display_name": "Python 3"
    },
    "language_info": {
      "name": "python"
    }
  },
  "cells": [
    {
      "cell_type": "markdown",
      "metadata": {
        "id": "view-in-github",
        "colab_type": "text"
      },
      "source": [
        "<a href=\"https://colab.research.google.com/github/083davii/professor-pablo/blob/main/Untitled4.ipynb\" target=\"_parent\"><img src=\"https://colab.research.google.com/assets/colab-badge.svg\" alt=\"Open In Colab\"/></a>"
      ]
    },
    {
      "cell_type": "code",
      "execution_count": 14,
      "metadata": {
        "id": "eVFwEKqMhXX3"
      },
      "outputs": [],
      "source": [
        "class Pessoa:\n",
        "  def __init__(self, name):\n",
        "    self.name = name"
      ]
    },
    {
      "cell_type": "code",
      "source": [
        "aluno = Pessoa('Davi')\n",
        "aluno.name"
      ],
      "metadata": {
        "colab": {
          "base_uri": "https://localhost:8080/",
          "height": 35
        },
        "id": "sgR25ZMjhwZv",
        "outputId": "d580569e-87c9-47c1-9e77-19bec4c6e97c"
      },
      "execution_count": 15,
      "outputs": [
        {
          "output_type": "execute_result",
          "data": {
            "text/plain": [
              "'Davi'"
            ],
            "application/vnd.google.colaboratory.intrinsic+json": {
              "type": "string"
            }
          },
          "metadata": {},
          "execution_count": 15
        }
      ]
    },
    {
      "cell_type": "code",
      "source": [
        "#Criar uma classe Funcionário que tem como atributos \n",
        "#nome, cargo, e matrícula\n",
        "class Funcionario:\n",
        "  def __init__(self, nome, cargo, matricula):\n",
        "    self.nome = nome \n",
        "    self.cargo = cargo\n",
        "    self.matricula = matricula"
      ],
      "metadata": {
        "id": "hHsGl_evjQ1z"
      },
      "execution_count": 27,
      "outputs": []
    },
    {
      "cell_type": "code",
      "source": [
        "#instancia de Funcionario\n",
        "vend = Funcionario('Juarez', 'comprador', 36524)\n",
        "print(f'{vend.nome}, cargo: {vend.cargo} mat: {vend.matricula}')"
      ],
      "metadata": {
        "colab": {
          "base_uri": "https://localhost:8080/"
        },
        "id": "IO7lEI7Uksxd",
        "outputId": "ef152913-de89-4db0-c430-62089210b539"
      },
      "execution_count": 28,
      "outputs": [
        {
          "output_type": "stream",
          "name": "stdout",
          "text": [
            "Juarez, cargo: comprador mat: 36524\n"
          ]
        }
      ]
    },
    {
      "cell_type": "code",
      "source": [
        "#criar uma class Cliente contendo os atributos \n",
        "#mome, idade, sexo"
      ],
      "metadata": {
        "id": "RtR1KJv_mcSU"
      },
      "execution_count": null,
      "outputs": []
    },
    {
      "cell_type": "code",
      "source": [
        "class cliente :\n",
        "  def __init__(self, nome, idade, sexo):\n",
        "    self.nome = nome \n",
        "    self.idade = idade\n",
        "    self.sexo = sexo\n",
        "  def detalhe(self):\n",
        "    print(f'{self.nome}, {self.idade}, {self.sexo}')"
      ],
      "metadata": {
        "id": "mMaWqT6fmzAp"
      },
      "execution_count": 45,
      "outputs": []
    },
    {
      "cell_type": "code",
      "source": [
        "cli = cliente('Davi', 20, 'Masculino')\n",
        "cli.detalhe()"
      ],
      "metadata": {
        "colab": {
          "base_uri": "https://localhost:8080/"
        },
        "id": "x5JoJGoVnNpA",
        "outputId": "dd274b92-61c8-4e06-856f-ffada9885ab2"
      },
      "execution_count": 46,
      "outputs": [
        {
          "output_type": "stream",
          "name": "stdout",
          "text": [
            "Davi, 20, Masculino\n"
          ]
        }
      ]
    },
    {
      "cell_type": "markdown",
      "source": [],
      "metadata": {
        "id": "WgFGaCxnpeli"
      }
    },
    {
      "cell_type": "code",
      "source": [
        "#crie uma class conta com os atributos \n",
        "# titular, saldo\n",
        "#função chamada exibeSaldo\n",
        "\n",
        "class Conta:\n",
        "  def __init__(self,titular, saldo ):\n",
        "    self.titular = titular\n",
        "    self.saldo = saldo\n",
        "  def exibeSaldo(self):\n",
        "    print('{self.titular}---------R${self.saldo},10000')"
      ],
      "metadata": {
        "id": "dqAGw8-wn7lS"
      },
      "execution_count": 60,
      "outputs": []
    },
    {
      "cell_type": "code",
      "source": [
        "conta = Conta('Davi', 10000)\n",
        "conta.exibeSaldo()"
      ],
      "metadata": {
        "colab": {
          "base_uri": "https://localhost:8080/"
        },
        "id": "GDWDQed-q1HD",
        "outputId": "5e83b307-8aed-43fc-e003-0f562ee16afa"
      },
      "execution_count": 61,
      "outputs": [
        {
          "output_type": "stream",
          "name": "stdout",
          "text": [
            "{self.titular}---------R${self.saldo},10000\n"
          ]
        }
      ]
    },
    {
      "cell_type": "code",
      "source": [
        "class Animal:\n",
        "  def __init__(self, name):\n",
        "     self.name = name \n",
        "  def emitirSom(self):\n",
        "    pass\n",
        "\n",
        "\n",
        "class Ovelha(Animal):\n",
        "  def emitirSom(self):\n",
        "         print('Béeeeee')\n",
        "\n",
        "class cachorro(Animal):\n",
        "   def emitirSom(self):\n",
        "       print('au au')\n",
        "\n",
        "\n"
      ],
      "metadata": {
        "id": "7Cn1oWXuszDT"
      },
      "execution_count": 69,
      "outputs": []
    },
    {
      "cell_type": "code",
      "source": [
        "ovelha = Ovelha('Ana')\n",
        "caozinho = cachorro('doug')\n",
        "\n",
        "ovelha.emitirSom()\n",
        "caozinho.emitirSom()\n"
      ],
      "metadata": {
        "colab": {
          "base_uri": "https://localhost:8080/"
        },
        "id": "Q0GeT54iu3NR",
        "outputId": "cc8b7f53-c149-43df-93ac-72ac499682b2"
      },
      "execution_count": 70,
      "outputs": [
        {
          "output_type": "stream",
          "name": "stdout",
          "text": [
            "Béeeeee\n",
            "au au\n"
          ]
        }
      ]
    }
  ]
}