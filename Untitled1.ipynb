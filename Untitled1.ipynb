{
  "nbformat": 4,
  "nbformat_minor": 0,
  "metadata": {
    "colab": {
      "provenance": [],
      "authorship_tag": "ABX9TyM3sTQRjz9WR96qvHg+Pl2G",
      "include_colab_link": true
    },
    "kernelspec": {
      "name": "python3",
      "display_name": "Python 3"
    },
    "language_info": {
      "name": "python"
    }
  },
  "cells": [
    {
      "cell_type": "markdown",
      "metadata": {
        "id": "view-in-github",
        "colab_type": "text"
      },
      "source": [
        "<a href=\"https://colab.research.google.com/github/083davii/professor-pablo/blob/main/Untitled1.ipynb\" target=\"_parent\"><img src=\"https://colab.research.google.com/assets/colab-badge.svg\" alt=\"Open In Colab\"/></a>"
      ]
    },
    {
      "cell_type": "code",
      "source": [
        "#criar uma listas\n",
        "lista_vazia = []\n",
        "\n",
        "#Lista com elementos\n",
        "lista_com_coisas = [2, 4, 4, 'Zé', 'Mané']\n",
        " "
      ],
      "metadata": {
        "id": "WHfp2kArR1NC"
      },
      "execution_count": 1,
      "outputs": []
    },
    {
      "cell_type": "code",
      "source": [
        "#Acessando Elementos da lista\n",
        "lista = [1,2,3, \"quatro\", \"cinco\"] \n",
        "\n",
        "\n",
        "print(lista[0])  # 1\n",
        "print(lista[3])  # \"quatro\"\n",
        "print(lista[-1]) # \"cinco\"\n",
        "     "
      ],
      "metadata": {
        "colab": {
          "base_uri": "https://localhost:8080/"
        },
        "id": "aJUiwIENcBPv",
        "outputId": "b511f94e-cd7f-43dc-8405-0475be00a82f"
      },
      "execution_count": 3,
      "outputs": [
        {
          "output_type": "stream",
          "name": "stdout",
          "text": [
            "1\n",
            "quatro\n",
            "cinco\n"
          ]
        }
      ]
    },
    {
      "cell_type": "code",
      "source": [
        "nomes =[ 'zé', 'tião','joaquim']\n",
        "nomes.append('julia')\n",
        "\n",
        "#vários valores\n",
        "outrosNomes = ['Ana', 'Zabé', 'Maria']\n",
        "nomes.extend(outrosNomes)\n",
        "\n",
        "nomes"
      ],
      "metadata": {
        "colab": {
          "base_uri": "https://localhost:8080/"
        },
        "id": "j1c7ZXK3cvID",
        "outputId": "f2734ff5-a784-4245-c575-1100888481de"
      },
      "execution_count": 4,
      "outputs": [
        {
          "output_type": "execute_result",
          "data": {
            "text/plain": [
              "['zé', 'tião', 'joaquim', 'julia', 'Ana', 'Zabé', 'Maria']"
            ]
          },
          "metadata": {},
          "execution_count": 4
        }
      ]
    },
    {
      "cell_type": "markdown",
      "source": [],
      "metadata": {
        "id": "vqy26sECb-tg"
      }
    },
    {
      "cell_type": "code",
      "source": [
        "#Crie uma lista de números e \n",
        "numeros = [ 2, 4, 1, 6, 9, 12]\n",
        "#remova o primeiro elemento da lista\n",
        "numeros.remove(numeros[0])\n",
        "#remova o último elemento da lista\n",
        "numeros.pop()\n",
        "\n",
        "numeros"
      ],
      "metadata": {
        "colab": {
          "base_uri": "https://localhost:8080/"
        },
        "id": "1C2kRxyBd3Rn",
        "outputId": "d7edccfb-9fa4-460d-f7f2-0bd8dbb3516d"
      },
      "execution_count": 5,
      "outputs": [
        {
          "output_type": "execute_result",
          "data": {
            "text/plain": [
              "[4, 1, 6, 9]"
            ]
          },
          "metadata": {},
          "execution_count": 5
        }
      ]
    },
    {
      "cell_type": "code",
      "source": [
        "#Recebe uma lista numérica e \n",
        "#Retorna o quadrado de cada número\n",
        " \n",
        "lista2 = [1,4,5,7,8,9]\n",
        "newList = list(map(lambda x: x*x, lista2))\n",
        "newList"
      ],
      "metadata": {
        "colab": {
          "base_uri": "https://localhost:8080/"
        },
        "id": "0nlLz1JZeW9h",
        "outputId": "385a12cf-c10f-482d-d54a-1029b853ff00"
      },
      "execution_count": 14,
      "outputs": [
        {
          "output_type": "execute_result",
          "data": {
            "text/plain": [
              "[1, 16, 25, 49, 64, 81]"
            ]
          },
          "metadata": {},
          "execution_count": 14
        }
      ]
    },
    {
      "cell_type": "code",
      "source": [
        "fruts = ['banana', 'pera', 'uva', 'cajá', 'manga']\n"
      ],
      "metadata": {
        "id": "Wa-5f5uyrMxA"
      },
      "execution_count": 15,
      "outputs": []
    },
    {
      "cell_type": "code",
      "source": [
        "#Receba uma lista de frutras e\n",
        "#Retorne uma lista com a quantidade de caracteres.\n",
        "\n",
        "lista_frutas = ['banana', 'pera', 'uva', 'cajá', 'manga']\n",
        "newFrutas = list(map(lambda  x : len(x), lista_frutas))\n",
        "newFrutas\n"
      ],
      "metadata": {
        "colab": {
          "base_uri": "https://localhost:8080/"
        },
        "id": "ZyFpxOTHrdXP",
        "outputId": "e3cb287b-9cf9-4a8d-83e2-dc6ff00daf5e"
      },
      "execution_count": 22,
      "outputs": [
        {
          "output_type": "execute_result",
          "data": {
            "text/plain": [
              "[6, 4, 3, 4, 5]"
            ]
          },
          "metadata": {},
          "execution_count": 22
        }
      ]
    },
    {
      "cell_type": "code",
      "source": [
        "#MAP map(função, iteravel)\n",
        "precos = [9.99, 2.50, 3.45, 7.00, 10.90]"
      ],
      "metadata": {
        "id": "K_NqYnpptiaq"
      },
      "execution_count": 23,
      "outputs": []
    },
    {
      "cell_type": "code",
      "source": [
        "#pegrar os preços de uma lista\n",
        "#adicionar 2 a cada um deles \n",
        "\n",
        "precos = [9.99, 2.50, 3.45, 7.00, 10.90]\n",
        "newPrecos = list(map(lambda x : x+2, precos))\n",
        "newPrecos"
      ],
      "metadata": {
        "colab": {
          "base_uri": "https://localhost:8080/"
        },
        "id": "bKxrYWpHt_sy",
        "outputId": "d671269b-d871-44ff-a07c-b4f37f0423f7"
      },
      "execution_count": 25,
      "outputs": [
        {
          "output_type": "execute_result",
          "data": {
            "text/plain": [
              "[11.99, 4.5, 5.45, 9.0, 12.9]"
            ]
          },
          "metadata": {},
          "execution_count": 25
        }
      ]
    },
    {
      "cell_type": "code",
      "source": [
        "notas = [6,7,3.5,9,6.5]\n",
        "#quero apenas os aprovrados....\n",
        "aprovados = list(filter(lambda x : x>=7, notas))\n",
        "\n",
        "aprovados"
      ],
      "metadata": {
        "colab": {
          "base_uri": "https://localhost:8080/"
        },
        "id": "anMLpwnmvZt0",
        "outputId": "1f71ef51-5873-4eb3-c7e9-1806098dd75f"
      },
      "execution_count": 27,
      "outputs": [
        {
          "output_type": "execute_result",
          "data": {
            "text/plain": [
              "[7, 9]"
            ]
          },
          "metadata": {},
          "execution_count": 27
        }
      ]
    }
  ]
}